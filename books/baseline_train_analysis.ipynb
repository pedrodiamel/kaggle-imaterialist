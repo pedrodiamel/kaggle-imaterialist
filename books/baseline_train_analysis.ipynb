{
 "cells": [
  {
   "cell_type": "markdown",
   "metadata": {},
   "source": [
    "# Baseline train analysis"
   ]
  },
  {
   "cell_type": "code",
   "execution_count": 1,
   "metadata": {},
   "outputs": [],
   "source": [
    "import os\n",
    "import sys\n",
    "import numpy as np\n",
    "import pandas as pd\n",
    "\n",
    "sys.path.append('../')\n",
    "\n",
    "import matplotlib.pyplot as plt\n",
    "%matplotlib inline"
   ]
  },
  {
   "cell_type": "code",
   "execution_count": 2,
   "metadata": {},
   "outputs": [
    {
     "name": "stdout",
     "output_type": "stream",
     "text": [
      "exp_baseline_simplenet_cross_adam_ferp_001\n",
      "exp_baseline_simplenet_cross_adam_mnist_001\n",
      "exp_net_baseline_singlenet_001\n",
      "exp_triplet_embsimplenet_hinge_adam_mnist_001\n"
     ]
    }
   ],
   "source": [
    "# see the projects\n",
    "!ls ../out/netruns/"
   ]
  },
  {
   "cell_type": "code",
   "execution_count": 3,
   "metadata": {},
   "outputs": [
    {
     "name": "stdout",
     "output_type": "stream",
     "text": [
      "../out/netruns/exp_baseline_simplenet_cross_adam_mnist_001\n",
      "../out/netruns/exp_baseline_simplenet_cross_adam_mnist_001/exp_baseline_simplenet_cross_adam_mnist_001.log\n"
     ]
    }
   ],
   "source": [
    "PROJECT='../out/netruns'\n",
    "EXPNAME='exp_baseline_simplenet_cross_adam_mnist_001'\n",
    "\n",
    "pathproject = os.path.join( PROJECT, EXPNAME )\n",
    "pathprojectlog = os.path.join( PROJECT, EXPNAME, '{}.log'.format(EXPNAME) )\n",
    "\n",
    "print(pathproject)\n",
    "print(pathprojectlog)"
   ]
  },
  {
   "cell_type": "code",
   "execution_count": 8,
   "metadata": {},
   "outputs": [
    {
     "name": "stdout",
     "output_type": "stream",
     "text": [
      "SAVE:  log_train.csv log_val.csv\n",
      "DONE!!!\n"
     ]
    }
   ],
   "source": [
    "# generate log\n",
    "!python ../torchlib/tools/parse_log.py \\\n",
    "../out/netruns/exp_baseline_simplenet_cross_adam_mnist_001/exp_baseline_simplenet_cross_adam_mnist_001.log \\\n",
    "../out/netruns/exp_baseline_simplenet_cross_adam_mnist_001/"
   ]
  },
  {
   "cell_type": "code",
   "execution_count": 5,
   "metadata": {},
   "outputs": [
    {
     "name": "stdout",
     "output_type": "stream",
     "text": [
      "../out/netruns/exp_baseline_simplenet_cross_adam_mnist_001/log_train.csv\n",
      "../out/netruns/exp_baseline_simplenet_cross_adam_mnist_001/log_val.csv\n"
     ]
    }
   ],
   "source": [
    "filenametrain = os.path.join( pathproject, 'log_{}.csv'.format( 'train' ) )\n",
    "filenameval = os.path.join( pathproject, 'log_{}.csv'.format( 'val' ) )\n",
    "print(filenametrain)\n",
    "print(filenameval)"
   ]
  },
  {
   "cell_type": "markdown",
   "metadata": {},
   "source": [
    "# Train analysis"
   ]
  },
  {
   "cell_type": "code",
   "execution_count": 6,
   "metadata": {},
   "outputs": [
    {
     "data": {
      "text/html": [
       "<div>\n",
       "<style>\n",
       "    .dataframe thead tr:only-child th {\n",
       "        text-align: right;\n",
       "    }\n",
       "\n",
       "    .dataframe thead th {\n",
       "        text-align: left;\n",
       "    }\n",
       "\n",
       "    .dataframe tbody tr th {\n",
       "        vertical-align: top;\n",
       "    }\n",
       "</style>\n",
       "<table border=\"1\" class=\"dataframe\">\n",
       "  <thead>\n",
       "    <tr style=\"text-align: right;\">\n",
       "      <th></th>\n",
       "      <th>epoch</th>\n",
       "      <th>iter</th>\n",
       "      <th>loss</th>\n",
       "      <th>time</th>\n",
       "      <th>top1</th>\n",
       "      <th>top2</th>\n",
       "      <th>total</th>\n",
       "      <th>type</th>\n",
       "    </tr>\n",
       "  </thead>\n",
       "  <tbody>\n",
       "    <tr>\n",
       "      <th>0</th>\n",
       "      <td>0</td>\n",
       "      <td>0</td>\n",
       "      <td>3.0809</td>\n",
       "      <td>4.9579</td>\n",
       "      <td>6.6667</td>\n",
       "      <td>15.0000</td>\n",
       "      <td>1000</td>\n",
       "      <td>Train</td>\n",
       "    </tr>\n",
       "    <tr>\n",
       "      <th>1</th>\n",
       "      <td>0</td>\n",
       "      <td>100</td>\n",
       "      <td>1.3016</td>\n",
       "      <td>0.0070</td>\n",
       "      <td>57.2607</td>\n",
       "      <td>72.9373</td>\n",
       "      <td>1000</td>\n",
       "      <td>Train</td>\n",
       "    </tr>\n",
       "    <tr>\n",
       "      <th>2</th>\n",
       "      <td>0</td>\n",
       "      <td>200</td>\n",
       "      <td>0.9563</td>\n",
       "      <td>0.0221</td>\n",
       "      <td>69.2289</td>\n",
       "      <td>82.2222</td>\n",
       "      <td>1000</td>\n",
       "      <td>Train</td>\n",
       "    </tr>\n",
       "    <tr>\n",
       "      <th>3</th>\n",
       "      <td>0</td>\n",
       "      <td>300</td>\n",
       "      <td>0.8039</td>\n",
       "      <td>0.0117</td>\n",
       "      <td>74.5792</td>\n",
       "      <td>86.0133</td>\n",
       "      <td>1000</td>\n",
       "      <td>Train</td>\n",
       "    </tr>\n",
       "    <tr>\n",
       "      <th>4</th>\n",
       "      <td>0</td>\n",
       "      <td>400</td>\n",
       "      <td>0.7040</td>\n",
       "      <td>0.0106</td>\n",
       "      <td>77.8928</td>\n",
       "      <td>88.2627</td>\n",
       "      <td>1000</td>\n",
       "      <td>Train</td>\n",
       "    </tr>\n",
       "  </tbody>\n",
       "</table>\n",
       "</div>"
      ],
      "text/plain": [
       "   epoch  iter    loss    time     top1     top2  total   type\n",
       "0      0     0  3.0809  4.9579   6.6667  15.0000   1000  Train\n",
       "1      0   100  1.3016  0.0070  57.2607  72.9373   1000  Train\n",
       "2      0   200  0.9563  0.0221  69.2289  82.2222   1000  Train\n",
       "3      0   300  0.8039  0.0117  74.5792  86.0133   1000  Train\n",
       "4      0   400  0.7040  0.0106  77.8928  88.2627   1000  Train"
      ]
     },
     "execution_count": 6,
     "metadata": {},
     "output_type": "execute_result"
    }
   ],
   "source": [
    "train = pd.read_csv(filenametrain)\n",
    "train.head()"
   ]
  },
  {
   "cell_type": "code",
   "execution_count": 7,
   "metadata": {},
   "outputs": [
    {
     "data": {
      "image/png": "[encoded data removed]",
      "text/plain": [
       "<matplotlib.figure.Figure at 0x7fa6da9d50f0>"
      ]
     },
     "metadata": {},
     "output_type": "display_data"
    }
   ],
   "source": [
    "\n",
    "indx   = train['type']\n",
    "xiter  = np.array(train['iter'])\n",
    "xtop1  = np.array(train['top1'])\n",
    "xtop2  = np.array(train['top2'])\n",
    "xloss  = np.array(train['loss'])\n",
    "xepoch = np.array(train['epoch'])\n",
    "\n",
    "#plt.plot( xepoch, xtop1 )\n",
    "#plt.plot( xepoch, xtop2 )\n",
    "#plt.plot( xepoch, xloss )\n",
    "#plt.show()\n",
    "\n",
    "#plt.style.use('default')\n",
    "#plt.style.use('classic')\n",
    "#plt.style.use('ggplot')\n",
    "#plt.style.use('fivethirtyeight')\n",
    "#plt.style.use('dark_background')\n",
    "#plt.style.context('Solarize_Light2')\n",
    "\n",
    "_, ax1 = plt.subplots()\n",
    "ax2 = ax1.twinx()\n",
    "pl1 = ax1.plot(xepoch, xloss, label='loss')\n",
    "pl2 = ax2.plot(xepoch, xtop1, 'r', label='top1')\n",
    "pl3 = ax2.plot(xepoch, xtop2, 'g', label='top2')\n",
    "\n",
    "ax1.set_xlabel('iteration')\n",
    "ax1.set_ylabel('train loss')\n",
    "ax2.set_ylabel('test accuracy')\n",
    "ax2.set_title('Test Accuracy: {:.2f}'.format( xtop1[-1] ) )\n",
    "\n",
    "#ax2.legend(loc='right')\n",
    "lns = pl1+pl2+pl3\n",
    "labs = [l.get_label() for l in lns]\n",
    "ax1.legend(lns, labs, loc='right')\n",
    "\n",
    "ax1.grid(True)\n",
    "\n"
   ]
  },
  {
   "cell_type": "code",
   "execution_count": 30,
   "metadata": {},
   "outputs": [],
   "source": []
  },
  {
   "cell_type": "code",
   "execution_count": null,
   "metadata": {},
   "outputs": [],
   "source": []
  },
  {
   "cell_type": "code",
   "execution_count": null,
   "metadata": {},
   "outputs": [],
   "source": []
  },
  {
   "cell_type": "code",
   "execution_count": null,
   "metadata": {},
   "outputs": [],
   "source": []
  },
  {
   "cell_type": "code",
   "execution_count": null,
   "metadata": {},
   "outputs": [],
   "source": []
  },
  {
   "cell_type": "code",
   "execution_count": null,
   "metadata": {},
   "outputs": [],
   "source": []
  },
  {
   "cell_type": "code",
   "execution_count": null,
   "metadata": {},
   "outputs": [],
   "source": []
  }
 ],
 "metadata": {
  "kernelspec": {
   "display_name": "Python [default]",
   "language": "python",
   "name": "python3"
  },
  "language_info": {
   "codemirror_mode": {
    "name": "ipython",
    "version": 3
   },
   "file_extension": ".py",
   "mimetype": "text/x-python",
   "name": "python",
   "nbconvert_exporter": "python",
   "pygments_lexer": "ipython3",
   "version": "3.5.5"
  }
 },
 "nbformat": 4,
 "nbformat_minor": 2
}
