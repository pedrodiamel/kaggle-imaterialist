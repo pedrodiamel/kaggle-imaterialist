{
 "cells": [
  {
   "cell_type": "markdown",
   "metadata": {},
   "source": [
    "# Baseline claseification"
   ]
  },
  {
   "cell_type": "code",
   "execution_count": 1,
   "metadata": {},
   "outputs": [
    {
     "name": "stdout",
     "output_type": "stream",
     "text": [
      "sys.version_info(major=3, minor=6, micro=5, releaselevel='final', serial=0)\n"
     ]
    }
   ],
   "source": [
    "import os\n",
    "import sys\n",
    "import numpy as np\n",
    "import pandas as pd\n",
    "import random\n",
    "\n",
    "from argparse import ArgumentParser\n",
    "import datetime\n",
    "\n",
    "import torch\n",
    "from torch.utils.data import Dataset, DataLoader\n",
    "from torchvision import transforms, utils\n",
    "import torch.backends.cudnn as cudnn\n",
    "\n",
    "from pytvision.transforms import transforms as mtrans\n",
    "from pytvision import visualization as view\n",
    "\n",
    "sys.path.append('../')\n",
    "from torchlib.datasets.factory  import FactoryDataset \n",
    "from torchlib.datasets import Dataset, SecuencialSamplesDataset, TripletsDataset\n",
    "from torchlib.classifierneuralnet import NeuralNetClassifier\n",
    "from misc import get_transforms_det\n",
    "\n",
    "from sklearn import metrics"
   ]
  },
  {
   "cell_type": "code",
   "execution_count": null,
   "metadata": {},
   "outputs": [],
   "source": []
  },
  {
   "cell_type": "code",
   "execution_count": 3,
   "metadata": {},
   "outputs": [
    {
     "name": "stdout",
     "output_type": "stream",
     "text": [
      "/home/fernandez/.datasets\n",
      "../out/netruns\n",
      "cifar10\n"
     ]
    }
   ],
   "source": [
    "pathname = os.path.expanduser( '~/.datasets' )\n",
    "projectnet='../out/netruns'\n",
    "name_dataset=FactoryDataset.cifar10\n",
    "no_cuda=False\n",
    "seed=1\n",
    "gpu=1\n",
    "batch_size=60\n",
    "workers=60\n",
    "num_input_channels=3\n",
    "\n",
    "print(pathname)\n",
    "print(projectnet)\n",
    "print(name_dataset)\n"
   ]
  },
  {
   "cell_type": "code",
   "execution_count": 4,
   "metadata": {},
   "outputs": [
    {
     "name": "stdout",
     "output_type": "stream",
     "text": [
      "exp_baseline_alexnet_cross_adam_cifar10_001\n",
      "exp_baseline_resnet18_cross_adam_cifar10_001\n",
      "exp_baseline_simplenet_cross_adam_cifar10_001\n",
      "exp_baseline_simplenet_cross_adam_ferp_001\n",
      "exp_baseline_simplenet_cross_adam_mnist_001\n"
     ]
    }
   ],
   "source": [
    "!ls ../out/netruns/"
   ]
  },
  {
   "cell_type": "code",
   "execution_count": 5,
   "metadata": {},
   "outputs": [
    {
     "name": "stdout",
     "output_type": "stream",
     "text": [
      "../out/netruns/exp_baseline_resnet18_cross_adam_cifar10_001\n",
      "../out/netruns/exp_baseline_resnet18_cross_adam_cifar10_001/models/model_best.pth.tar\n"
     ]
    }
   ],
   "source": [
    "name = 'exp_baseline_resnet18_cross_adam_cifar10_001'\n",
    "project = os.path.join(projectnet, name)\n",
    "model = 'model_best.pth.tar' #'chk001025.pth.tar'\n",
    "pathmodels = os.path.join(project,'models',model)\n",
    "\n",
    "print(project)\n",
    "print(pathmodels)\n"
   ]
  },
  {
   "cell_type": "markdown",
   "metadata": {},
   "source": [
    "# Load model"
   ]
  },
  {
   "cell_type": "code",
   "execution_count": 6,
   "metadata": {},
   "outputs": [
    {
     "name": "stdout",
     "output_type": "stream",
     "text": [
      "=> loading checkpoint '../out/netruns/exp_baseline_resnet18_cross_adam_cifar10_001/models/model_best.pth.tar'\n",
      "=> loaded checkpoint for resnet18 arch!\n"
     ]
    }
   ],
   "source": [
    "# neuralnet\n",
    "network = NeuralNetClassifier(\n",
    "    patchproject=project,\n",
    "    nameproject=name,\n",
    "    no_cuda=no_cuda,\n",
    "    seed=seed,\n",
    "    gpu=gpu\n",
    "    )\n",
    "\n",
    "cudnn.benchmark = True\n",
    "\n",
    "# load model\n",
    "if network.load( pathmodels ) is not True:\n",
    "    assert(False)"
   ]
  },
  {
   "cell_type": "markdown",
   "metadata": {},
   "source": [
    "# Load dataset"
   ]
  },
  {
   "cell_type": "code",
   "execution_count": 7,
   "metadata": {},
   "outputs": [
    {
     "name": "stdout",
     "output_type": "stream",
     "text": [
      "Files already downloaded and verified\n",
      "Data loader \n",
      "167\n",
      "10000\n"
     ]
    }
   ],
   "source": [
    "data = Dataset(\n",
    "    data=FactoryDataset.factory(\n",
    "        pathname=pathname, \n",
    "        name=name_dataset, \n",
    "        subset=FactoryDataset.validation, \n",
    "        download=True ),\n",
    "    num_channels=num_input_channels,\n",
    "    transform=get_transforms_det(network.size_input)\n",
    "    )\n",
    "\n",
    "dataloader = DataLoader(data, batch_size=batch_size, shuffle=False, num_workers=workers )\n",
    "\n",
    "print('Data loader ')\n",
    "print(len(dataloader))\n",
    "print(len(data))\n"
   ]
  },
  {
   "cell_type": "markdown",
   "metadata": {},
   "source": [
    "# Run"
   ]
  },
  {
   "cell_type": "code",
   "execution_count": 8,
   "metadata": {},
   "outputs": [
    {
     "name": "stderr",
     "output_type": "stream",
     "text": [
      "100%|██████████| 167/167 [00:11<00:00, 14.02it/s]\n"
     ]
    },
    {
     "name": "stdout",
     "output_type": "stream",
     "text": [
      "dir: ../out/netruns/exp_baseline_resnet18_cross_adam_cifar10_001\n",
      "DONE!!!\n"
     ]
    }
   ],
   "source": [
    "Yhat, Y = network.test( dataloader )\n",
    "df = pd.DataFrame( np.concatenate((Yhat, Y), axis=1) )\n",
    "df.to_csv( os.path.join(project , 'val_{}_dp.csv'.format(name)), index=False, encoding='utf-8')       \n",
    "\n",
    "print('dir: {}'.format(project))\n",
    "print('DONE!!!')"
   ]
  },
  {
   "cell_type": "code",
   "execution_count": 9,
   "metadata": {},
   "outputs": [
    {
     "data": {
      "text/html": [
       "<div>\n",
       "<style scoped>\n",
       "    .dataframe tbody tr th:only-of-type {\n",
       "        vertical-align: middle;\n",
       "    }\n",
       "\n",
       "    .dataframe tbody tr th {\n",
       "        vertical-align: top;\n",
       "    }\n",
       "\n",
       "    .dataframe thead th {\n",
       "        text-align: right;\n",
       "    }\n",
       "</style>\n",
       "<table border=\"1\" class=\"dataframe\">\n",
       "  <thead>\n",
       "    <tr style=\"text-align: right;\">\n",
       "      <th></th>\n",
       "      <th>0</th>\n",
       "      <th>1</th>\n",
       "      <th>2</th>\n",
       "      <th>3</th>\n",
       "      <th>4</th>\n",
       "      <th>5</th>\n",
       "      <th>6</th>\n",
       "      <th>7</th>\n",
       "      <th>8</th>\n",
       "      <th>9</th>\n",
       "      <th>10</th>\n",
       "    </tr>\n",
       "  </thead>\n",
       "  <tbody>\n",
       "    <tr>\n",
       "      <th>0</th>\n",
       "      <td>5.977659e-13</td>\n",
       "      <td>2.570252e-10</td>\n",
       "      <td>9.551368e-08</td>\n",
       "      <td>9.999956e-01</td>\n",
       "      <td>9.373704e-12</td>\n",
       "      <td>4.319450e-06</td>\n",
       "      <td>1.982947e-09</td>\n",
       "      <td>3.539823e-09</td>\n",
       "      <td>2.002249e-14</td>\n",
       "      <td>1.350650e-15</td>\n",
       "      <td>3.0</td>\n",
       "    </tr>\n",
       "    <tr>\n",
       "      <th>1</th>\n",
       "      <td>1.191321e-08</td>\n",
       "      <td>2.985508e-05</td>\n",
       "      <td>3.218643e-10</td>\n",
       "      <td>5.561844e-11</td>\n",
       "      <td>5.211195e-11</td>\n",
       "      <td>1.219331e-11</td>\n",
       "      <td>2.890647e-11</td>\n",
       "      <td>3.353836e-11</td>\n",
       "      <td>9.999701e-01</td>\n",
       "      <td>7.921525e-09</td>\n",
       "      <td>8.0</td>\n",
       "    </tr>\n",
       "    <tr>\n",
       "      <th>2</th>\n",
       "      <td>9.473785e-08</td>\n",
       "      <td>9.947698e-01</td>\n",
       "      <td>1.560545e-08</td>\n",
       "      <td>3.453963e-11</td>\n",
       "      <td>7.124677e-07</td>\n",
       "      <td>1.391863e-09</td>\n",
       "      <td>5.942684e-08</td>\n",
       "      <td>4.355155e-08</td>\n",
       "      <td>5.206798e-03</td>\n",
       "      <td>2.256745e-05</td>\n",
       "      <td>8.0</td>\n",
       "    </tr>\n",
       "    <tr>\n",
       "      <th>3</th>\n",
       "      <td>9.998685e-01</td>\n",
       "      <td>1.087181e-06</td>\n",
       "      <td>4.534490e-05</td>\n",
       "      <td>5.551858e-07</td>\n",
       "      <td>1.465503e-11</td>\n",
       "      <td>2.699355e-09</td>\n",
       "      <td>6.830940e-09</td>\n",
       "      <td>3.625955e-09</td>\n",
       "      <td>4.004708e-05</td>\n",
       "      <td>4.446632e-05</td>\n",
       "      <td>0.0</td>\n",
       "    </tr>\n",
       "    <tr>\n",
       "      <th>4</th>\n",
       "      <td>2.242648e-10</td>\n",
       "      <td>3.792961e-07</td>\n",
       "      <td>1.114577e-05</td>\n",
       "      <td>1.370635e-07</td>\n",
       "      <td>1.331411e-08</td>\n",
       "      <td>2.394821e-10</td>\n",
       "      <td>9.999882e-01</td>\n",
       "      <td>2.270148e-11</td>\n",
       "      <td>1.829230e-11</td>\n",
       "      <td>7.265218e-08</td>\n",
       "      <td>6.0</td>\n",
       "    </tr>\n",
       "  </tbody>\n",
       "</table>\n",
       "</div>"
      ],
      "text/plain": [
       "              0             1             2             3             4  \\\n",
       "0  5.977659e-13  2.570252e-10  9.551368e-08  9.999956e-01  9.373704e-12   \n",
       "1  1.191321e-08  2.985508e-05  3.218643e-10  5.561844e-11  5.211195e-11   \n",
       "2  9.473785e-08  9.947698e-01  1.560545e-08  3.453963e-11  7.124677e-07   \n",
       "3  9.998685e-01  1.087181e-06  4.534490e-05  5.551858e-07  1.465503e-11   \n",
       "4  2.242648e-10  3.792961e-07  1.114577e-05  1.370635e-07  1.331411e-08   \n",
       "\n",
       "              5             6             7             8             9   10  \n",
       "0  4.319450e-06  1.982947e-09  3.539823e-09  2.002249e-14  1.350650e-15  3.0  \n",
       "1  1.219331e-11  2.890647e-11  3.353836e-11  9.999701e-01  7.921525e-09  8.0  \n",
       "2  1.391863e-09  5.942684e-08  4.355155e-08  5.206798e-03  2.256745e-05  8.0  \n",
       "3  2.699355e-09  6.830940e-09  3.625955e-09  4.004708e-05  4.446632e-05  0.0  \n",
       "4  2.394821e-10  9.999882e-01  2.270148e-11  1.829230e-11  7.265218e-08  6.0  "
      ]
     },
     "execution_count": 9,
     "metadata": {},
     "output_type": "execute_result"
    }
   ],
   "source": [
    "df = pd.read_csv( os.path.join(project , 'val_{}_dp.csv'.format(name))  )\n",
    "df.head()"
   ]
  },
  {
   "cell_type": "code",
   "execution_count": 10,
   "metadata": {},
   "outputs": [
    {
     "name": "stdout",
     "output_type": "stream",
     "text": [
      "Accuracy : 0.956600\n",
      "Precision : 0.956669\n",
      "Recall : 0.956600\n",
      "F1 score : 0.956635\n",
      "\n"
     ]
    }
   ],
   "source": [
    "result = df.as_matrix()\n",
    "yhat = np.argmax( result[:,:-1], axis=1 )\n",
    "y = result[:,-1]\n",
    "\n",
    "acc = metrics.accuracy_score(y, yhat)\n",
    "precision = metrics.precision_score(y, yhat, average='macro')\n",
    "recall = metrics.recall_score(y, yhat, average='macro')\n",
    "f1_score = 2*precision*recall/(precision+recall)\n",
    "\n",
    "print('Accuracy : %f' % acc)\n",
    "print('Precision : %f' % precision)\n",
    "print('Recall : %f' % recall)\n",
    "print('F1 score : %f' % f1_score)\n",
    "print(\"\")\n",
    "\n"
   ]
  },
  {
   "cell_type": "code",
   "execution_count": 11,
   "metadata": {},
   "outputs": [
    {
     "name": "stdout",
     "output_type": "stream",
     "text": [
      "             precision    recall  f1-score   support\n",
      "\n",
      "        0.0       0.97      0.96      0.96      1000\n",
      "        1.0       0.98      0.98      0.98      1000\n",
      "        2.0       0.95      0.95      0.95      1000\n",
      "        3.0       0.93      0.89      0.91      1000\n",
      "        4.0       0.95      0.96      0.96      1000\n",
      "        5.0       0.91      0.93      0.92      1000\n",
      "        6.0       0.97      0.97      0.97      1000\n",
      "        7.0       0.98      0.97      0.97      1000\n",
      "        8.0       0.97      0.97      0.97      1000\n",
      "        9.0       0.97      0.97      0.97      1000\n",
      "\n",
      "avg / total       0.96      0.96      0.96     10000\n",
      "\n"
     ]
    }
   ],
   "source": [
    "metric = metrics.classification_report(y, yhat)\n",
    "print(metric)"
   ]
  },
  {
   "cell_type": "code",
   "execution_count": 12,
   "metadata": {},
   "outputs": [
    {
     "name": "stdout",
     "output_type": "stream",
     "text": [
      "[[959   1   3   5   3   2   4   1  20   2]\n",
      " [  1 983   0   1   0   0   0   0   2  13]\n",
      " [  5   0 952   8  15  10   7   2   1   0]\n",
      " [  2   0   9 894  15  60   9   2   6   3]\n",
      " [  3   0   6  10 963   8   3   7   0   0]\n",
      " [  0   0   7  36  10 933   3   9   1   1]\n",
      " [  2   0  16   6   1   4 971   0   0   0]\n",
      " [  2   0   1   4   9  12   0 971   0   1]\n",
      " [ 12   5   2   1   0   0   3   0 971   6]\n",
      " [  4  19   1   1   0   0   1   0   5 969]]\n"
     ]
    }
   ],
   "source": [
    "mc = metrics.confusion_matrix(y, yhat)\n",
    "print(mc)"
   ]
  },
  {
   "cell_type": "code",
   "execution_count": 13,
   "metadata": {},
   "outputs": [
    {
     "name": "stdout",
     "output_type": "stream",
     "text": [
      "Normalized confusion matrix\n"
     ]
    },
    {
     "data": {
      "image/png": "[encoded data removed]",
      "text/plain": [
       "<Figure size 576x576 with 1 Axes>"
      ]
     },
     "metadata": {},
     "output_type": "display_data"
    }
   ],
   "source": [
    "import itertools\n",
    "import matplotlib.pyplot as plt\n",
    "%matplotlib inline\n",
    "\n",
    "def plot_confusion_matrix(cm, classes,\n",
    "                          normalize=True,\n",
    "                          title='Confusion matrix',\n",
    "                          cmap=plt.cm.Blues):\n",
    "    \"\"\"\n",
    "    This function prints and plots the confusion matrix.\n",
    "    Normalization can be applied by setting `normalize=True`.\n",
    "    \"\"\"\n",
    "    if normalize:\n",
    "        cm = cm.astype('float') / cm.sum(axis=1)[:, np.newaxis]\n",
    "        print(\"Normalized confusion matrix\")\n",
    "    else:\n",
    "        print('Confusion matrix, without normalization')\n",
    "\n",
    "    #print(cm)\n",
    "\n",
    "    plt.imshow(cm, interpolation='nearest', cmap=cmap)\n",
    "    plt.title(title)\n",
    "    #plt.colorbar()\n",
    "    tick_marks = np.arange(len(classes))\n",
    "    plt.xticks(tick_marks, classes, rotation=45)\n",
    "    plt.yticks(tick_marks, classes)\n",
    "\n",
    "    fmt = '.2f' if normalize else 'd'\n",
    "    thresh = cm.max() / 2.\n",
    "    for i, j in itertools.product(range(cm.shape[0]), range(cm.shape[1])):\n",
    "        plt.text(j, i, format(cm[i, j], fmt),\n",
    "                 horizontalalignment=\"center\",\n",
    "                 color=\"white\" if cm[i, j] > thresh else \"black\")\n",
    "\n",
    "    plt.tight_layout()\n",
    "    plt.ylabel('True label')\n",
    "    plt.xlabel('Predicted label')\n",
    "\n",
    "\n",
    "plt.figure( figsize=(8,8))\n",
    "plot_confusion_matrix(mc, classes=data.data.classes, title=' ')\n",
    "plt.show()"
   ]
  }
 ],
 "metadata": {
  "kernelspec": {
   "display_name": "Python 3",
   "language": "python",
   "name": "python3"
  },
  "language_info": {
   "codemirror_mode": {
    "name": "ipython",
    "version": 3
   },
   "file_extension": ".py",
   "mimetype": "text/x-python",
   "name": "python",
   "nbconvert_exporter": "python",
   "pygments_lexer": "ipython3",
   "version": "3.6.5"
  }
 },
 "nbformat": 4,
 "nbformat_minor": 2
}
